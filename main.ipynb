{
 "cells": [
  {
   "cell_type": "code",
   "execution_count": 1,
   "metadata": {},
   "outputs": [],
   "source": [
    "import warnings\n",
    "warnings.filterwarnings('ignore')"
   ]
  },
  {
   "cell_type": "code",
   "execution_count": 2,
   "metadata": {},
   "outputs": [
    {
     "name": "stderr",
     "output_type": "stream",
     "text": [
      "Since the GPL-licensed package `unidecode` is not installed, using Python's `unicodedata` package which yields worse results.\n"
     ]
    },
    {
     "name": "stdout",
     "output_type": "stream",
     "text": [
      "Reading Data ...\n",
      "Number of rows of Raw Data: 12959\n",
      "Identify language for reviews ...\n",
      "Translate Reviews ...\n",
      "Remove Shorter Reviews ...\n",
      "Cleaning emojis in reviews ...\n",
      "Calculate sentiment scores ...\n",
      "Find toipcs in reviews ...\n",
      "Number of rows Topic Data: 10485\n",
      "Number of rows Final Data: 10485\n"
     ]
    }
   ],
   "source": [
    "\n",
    "# https://www.turing.com/kb/guide-on-word-embeddings-in-nlp\n",
    "# https://www.pinecone.io/learn/bertopic/\n",
    "from restaurentpy.pipeline import RunPipeline\n",
    "\n",
    "model = 'all-MiniLM-L6-v2'\n",
    "user_defined_topics = [\n",
    "    \"Food\",\n",
    "    \"Staff & Service\",\n",
    "    \"Ambience\",\n",
    "    \"Price\"\n",
    "]\n",
    "\n",
    "df_review = RunPipeline(path='/Volumes/Macintosh HD/AI World/Review Data/', \n",
    "                        pat='xlsx',\n",
    "                        model=model,\n",
    "                        topic=user_defined_topics). \\\n",
    "    run_pipeline()"
   ]
  },
  {
   "cell_type": "code",
   "execution_count": 3,
   "metadata": {},
   "outputs": [
    {
     "data": {
      "text/html": [
       "<div>\n",
       "<style scoped>\n",
       "    .dataframe tbody tr th:only-of-type {\n",
       "        vertical-align: middle;\n",
       "    }\n",
       "\n",
       "    .dataframe tbody tr th {\n",
       "        vertical-align: top;\n",
       "    }\n",
       "\n",
       "    .dataframe thead th {\n",
       "        text-align: right;\n",
       "    }\n",
       "</style>\n",
       "<table border=\"1\" class=\"dataframe\">\n",
       "  <thead>\n",
       "    <tr style=\"text-align: right;\">\n",
       "      <th></th>\n",
       "      <th>branch</th>\n",
       "      <th>calendar_date</th>\n",
       "      <th>review_text</th>\n",
       "      <th>review_rating</th>\n",
       "      <th>lang</th>\n",
       "      <th>translate_review</th>\n",
       "      <th>sentiment_score</th>\n",
       "      <th>sentiment_type</th>\n",
       "      <th>Topic</th>\n",
       "    </tr>\n",
       "  </thead>\n",
       "  <tbody>\n",
       "    <tr>\n",
       "      <th>0</th>\n",
       "      <td>The Cheesecake Factory</td>\n",
       "      <td>December-2023</td>\n",
       "      <td>Love the lighting here and the vibe is amazing...</td>\n",
       "      <td>5</td>\n",
       "      <td>en</td>\n",
       "      <td>love the lighting here and the vibe is amazing...</td>\n",
       "      <td>0.462963</td>\n",
       "      <td>Positive</td>\n",
       "      <td>Food</td>\n",
       "    </tr>\n",
       "    <tr>\n",
       "      <th>1</th>\n",
       "      <td>The Cheesecake Factory</td>\n",
       "      <td>November-2023</td>\n",
       "      <td>Today is my birthday and first time having din...</td>\n",
       "      <td>5</td>\n",
       "      <td>en</td>\n",
       "      <td>today is my birthday and first time having din...</td>\n",
       "      <td>0.296250</td>\n",
       "      <td>Positive</td>\n",
       "      <td>Staff &amp; Service</td>\n",
       "    </tr>\n",
       "    <tr>\n",
       "      <th>2</th>\n",
       "      <td>The Cheesecake Factory</td>\n",
       "      <td>November-2023</td>\n",
       "      <td>If you love Cheesecake, then Cheesecake factor...</td>\n",
       "      <td>5</td>\n",
       "      <td>en</td>\n",
       "      <td>if you love cheesecake, then cheesecake factor...</td>\n",
       "      <td>0.454265</td>\n",
       "      <td>Positive</td>\n",
       "      <td>Food</td>\n",
       "    </tr>\n",
       "    <tr>\n",
       "      <th>3</th>\n",
       "      <td>The Cheesecake Factory</td>\n",
       "      <td>October-2023</td>\n",
       "      <td>I always get the same dish; the baja chicken t...</td>\n",
       "      <td>5</td>\n",
       "      <td>en</td>\n",
       "      <td>i always get the same dish; the baja chicken t...</td>\n",
       "      <td>0.253125</td>\n",
       "      <td>Positive</td>\n",
       "      <td>Food</td>\n",
       "    </tr>\n",
       "    <tr>\n",
       "      <th>4</th>\n",
       "      <td>The Cheesecake Factory</td>\n",
       "      <td>October-2023</td>\n",
       "      <td>One of my favorite restaurants. Quality of foo...</td>\n",
       "      <td>5</td>\n",
       "      <td>en</td>\n",
       "      <td>one of my favorite restaurants. quality of foo...</td>\n",
       "      <td>0.528750</td>\n",
       "      <td>Positive</td>\n",
       "      <td>Food</td>\n",
       "    </tr>\n",
       "  </tbody>\n",
       "</table>\n",
       "</div>"
      ],
      "text/plain": [
       "                   branch  calendar_date  \\\n",
       "0  The Cheesecake Factory  December-2023   \n",
       "1  The Cheesecake Factory  November-2023   \n",
       "2  The Cheesecake Factory  November-2023   \n",
       "3  The Cheesecake Factory   October-2023   \n",
       "4  The Cheesecake Factory   October-2023   \n",
       "\n",
       "                                         review_text  review_rating lang  \\\n",
       "0  Love the lighting here and the vibe is amazing...              5   en   \n",
       "1  Today is my birthday and first time having din...              5   en   \n",
       "2  If you love Cheesecake, then Cheesecake factor...              5   en   \n",
       "3  I always get the same dish; the baja chicken t...              5   en   \n",
       "4  One of my favorite restaurants. Quality of foo...              5   en   \n",
       "\n",
       "                                    translate_review  sentiment_score  \\\n",
       "0  love the lighting here and the vibe is amazing...         0.462963   \n",
       "1  today is my birthday and first time having din...         0.296250   \n",
       "2  if you love cheesecake, then cheesecake factor...         0.454265   \n",
       "3  i always get the same dish; the baja chicken t...         0.253125   \n",
       "4  one of my favorite restaurants. quality of foo...         0.528750   \n",
       "\n",
       "  sentiment_type            Topic  \n",
       "0       Positive             Food  \n",
       "1       Positive  Staff & Service  \n",
       "2       Positive             Food  \n",
       "3       Positive             Food  \n",
       "4       Positive             Food  "
      ]
     },
     "execution_count": 3,
     "metadata": {},
     "output_type": "execute_result"
    }
   ],
   "source": [
    "df_review.head()"
   ]
  },
  {
   "cell_type": "code",
   "execution_count": 4,
   "metadata": {},
   "outputs": [
    {
     "data": {
      "text/plain": [
       "sentiment_type\n",
       "Positive    9109\n",
       "Negative     715\n",
       "Neutral      661\n",
       "Name: count, dtype: int64"
      ]
     },
     "execution_count": 4,
     "metadata": {},
     "output_type": "execute_result"
    }
   ],
   "source": [
    "df_review['sentiment_type'].value_counts()"
   ]
  },
  {
   "cell_type": "code",
   "execution_count": 5,
   "metadata": {},
   "outputs": [
    {
     "data": {
      "text/plain": [
       "Topic\n",
       "Food               7149\n",
       "Staff & Service    2031\n",
       "Ambience            764\n",
       "Price               541\n",
       "Name: count, dtype: int64"
      ]
     },
     "execution_count": 5,
     "metadata": {},
     "output_type": "execute_result"
    }
   ],
   "source": [
    "df_review['Topic'].value_counts()"
   ]
  },
  {
   "cell_type": "code",
   "execution_count": 6,
   "metadata": {},
   "outputs": [
    {
     "data": {
      "text/html": [
       "<div>\n",
       "<style scoped>\n",
       "    .dataframe tbody tr th:only-of-type {\n",
       "        vertical-align: middle;\n",
       "    }\n",
       "\n",
       "    .dataframe tbody tr th {\n",
       "        vertical-align: top;\n",
       "    }\n",
       "\n",
       "    .dataframe thead th {\n",
       "        text-align: right;\n",
       "    }\n",
       "</style>\n",
       "<table border=\"1\" class=\"dataframe\">\n",
       "  <thead>\n",
       "    <tr style=\"text-align: right;\">\n",
       "      <th></th>\n",
       "      <th>branch</th>\n",
       "      <th>calendar_date</th>\n",
       "      <th>review_text</th>\n",
       "      <th>review_rating</th>\n",
       "      <th>lang</th>\n",
       "      <th>translate_review</th>\n",
       "      <th>sentiment_score</th>\n",
       "      <th>sentiment_type</th>\n",
       "      <th>Topic</th>\n",
       "    </tr>\n",
       "  </thead>\n",
       "  <tbody>\n",
       "  </tbody>\n",
       "</table>\n",
       "</div>"
      ],
      "text/plain": [
       "Empty DataFrame\n",
       "Columns: [branch, calendar_date, review_text, review_rating, lang, translate_review, sentiment_score, sentiment_type, Topic]\n",
       "Index: []"
      ]
     },
     "execution_count": 6,
     "metadata": {},
     "output_type": "execute_result"
    }
   ],
   "source": [
    "duplicates = df_review[df_review.duplicated()]\n",
    "duplicates.head()"
   ]
  },
  {
   "cell_type": "code",
   "execution_count": 7,
   "metadata": {},
   "outputs": [],
   "source": [
    "# import csv\n",
    "import pandas as pd\n",
    "# Save the merged DataFrame to a CSV file\n",
    "df_review.to_csv('inst/output/cheesecake_python.csv', index=False)"
   ]
  }
 ],
 "metadata": {
  "kernelspec": {
   "display_name": "restaurentpy",
   "language": "python",
   "name": "python3"
  },
  "language_info": {
   "codemirror_mode": {
    "name": "ipython",
    "version": 3
   },
   "file_extension": ".py",
   "mimetype": "text/x-python",
   "name": "python",
   "nbconvert_exporter": "python",
   "pygments_lexer": "ipython3",
   "version": "3.9.6"
  }
 },
 "nbformat": 4,
 "nbformat_minor": 2
}
