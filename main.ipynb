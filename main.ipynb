{
 "cells": [
  {
   "cell_type": "code",
   "execution_count": 1,
   "metadata": {},
   "outputs": [],
   "source": [
    "import warnings\n",
    "warnings.filterwarnings('ignore')"
   ]
  },
  {
   "cell_type": "code",
   "execution_count": 2,
   "metadata": {},
   "outputs": [
    {
     "name": "stderr",
     "output_type": "stream",
     "text": [
      "Since the GPL-licensed package `unidecode` is not installed, using Python's `unicodedata` package which yields worse results.\n"
     ]
    },
    {
     "name": "stdout",
     "output_type": "stream",
     "text": [
      "Number of rows of Raw Data: 12917\n",
      "Identify language for reviews ...\n",
      "Translate Reviews ...\n",
      "Remove Shorter Reviews ...\n",
      "Cleaning emojis in reviews ...\n",
      "Number of rows Topic Data: 10483\n",
      "Number of rows Final Data: 10483\n"
     ]
    }
   ],
   "source": [
    "\n",
    "# https://www.turing.com/kb/guide-on-word-embeddings-in-nlp\n",
    "# https://www.pinecone.io/learn/bertopic/\n",
    "from restaurentpy.pipeline import RunPipeline\n",
    "\n",
    "model = 'all-MiniLM-L6-v2'\n",
    "user_defined_topics = [\n",
    "    \"Food\",\n",
    "    \"Staff & Service\",\n",
    "    \"Ambience\",\n",
    "    \"Price\"\n",
    "]\n",
    "\n",
    "df_review = RunPipeline(path='/Volumes/Macintosh HD/AI World/Review Data/', \n",
    "                        pat='xlsx',\n",
    "                        model=model,\n",
    "                        topic=user_defined_topics). \\\n",
    "    run_pipeline()"
   ]
  },
  {
   "cell_type": "code",
   "execution_count": 8,
   "metadata": {},
   "outputs": [],
   "source": [
    "# df_review[df_review['lang']=='ar'].head()\n",
    "df_review = df_review\\\n",
    "    .drop(['review_number', 'test'], axis=1)"
   ]
  },
  {
   "cell_type": "code",
   "execution_count": 9,
   "metadata": {},
   "outputs": [
    {
     "data": {
      "text/plain": [
       "sentiment_type\n",
       "Positive    9109\n",
       "Negative     715\n",
       "Neutral      659\n",
       "Name: count, dtype: int64"
      ]
     },
     "execution_count": 9,
     "metadata": {},
     "output_type": "execute_result"
    }
   ],
   "source": [
    "df_review['sentiment_type'].value_counts()"
   ]
  },
  {
   "cell_type": "code",
   "execution_count": 10,
   "metadata": {},
   "outputs": [
    {
     "data": {
      "text/plain": [
       "Topic\n",
       "Food               7153\n",
       "Staff & Service    2035\n",
       "Ambience            758\n",
       "Price               537\n",
       "Name: count, dtype: int64"
      ]
     },
     "execution_count": 10,
     "metadata": {},
     "output_type": "execute_result"
    }
   ],
   "source": [
    "df_review['Topic'].value_counts()"
   ]
  },
  {
   "cell_type": "code",
   "execution_count": 12,
   "metadata": {},
   "outputs": [
    {
     "data": {
      "text/html": [
       "<div>\n",
       "<style scoped>\n",
       "    .dataframe tbody tr th:only-of-type {\n",
       "        vertical-align: middle;\n",
       "    }\n",
       "\n",
       "    .dataframe tbody tr th {\n",
       "        vertical-align: top;\n",
       "    }\n",
       "\n",
       "    .dataframe thead th {\n",
       "        text-align: right;\n",
       "    }\n",
       "</style>\n",
       "<table border=\"1\" class=\"dataframe\">\n",
       "  <thead>\n",
       "    <tr style=\"text-align: right;\">\n",
       "      <th></th>\n",
       "      <th>calendar_date</th>\n",
       "      <th>review_text</th>\n",
       "      <th>review_rating</th>\n",
       "      <th>lang</th>\n",
       "      <th>translate_review</th>\n",
       "      <th>sentiment_score</th>\n",
       "      <th>sentiment_type</th>\n",
       "      <th>Topic</th>\n",
       "    </tr>\n",
       "  </thead>\n",
       "  <tbody>\n",
       "  </tbody>\n",
       "</table>\n",
       "</div>"
      ],
      "text/plain": [
       "Empty DataFrame\n",
       "Columns: [calendar_date, review_text, review_rating, lang, translate_review, sentiment_score, sentiment_type, Topic]\n",
       "Index: []"
      ]
     },
     "execution_count": 12,
     "metadata": {},
     "output_type": "execute_result"
    }
   ],
   "source": [
    "duplicates = df_review[df_review.duplicated()]\n",
    "duplicates.head()"
   ]
  },
  {
   "cell_type": "code",
   "execution_count": 13,
   "metadata": {},
   "outputs": [],
   "source": [
    "# import csv\n",
    "import pandas as pd\n",
    "# Save the merged DataFrame to a CSV file\n",
    "df_review.to_csv('inst/output/cheesecake_python.csv', index=False)\n"
   ]
  },
  {
   "cell_type": "code",
   "execution_count": null,
   "metadata": {},
   "outputs": [],
   "source": [
    "df_review.head()"
   ]
  },
  {
   "cell_type": "code",
   "execution_count": null,
   "metadata": {},
   "outputs": [],
   "source": [
    "# Write to google sheet"
   ]
  }
 ],
 "metadata": {
  "kernelspec": {
   "display_name": "restaurentpy",
   "language": "python",
   "name": "python3"
  },
  "language_info": {
   "codemirror_mode": {
    "name": "ipython",
    "version": 3
   },
   "file_extension": ".py",
   "mimetype": "text/x-python",
   "name": "python",
   "nbconvert_exporter": "python",
   "pygments_lexer": "ipython3",
   "version": "3.9.6"
  }
 },
 "nbformat": 4,
 "nbformat_minor": 2
}
