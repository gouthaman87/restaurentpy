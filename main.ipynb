{
 "cells": [
  {
   "cell_type": "code",
   "execution_count": 3,
   "metadata": {},
   "outputs": [
    {
     "ename": "AttributeError",
     "evalue": "'ReviewData' object has no attribute 'pat'",
     "output_type": "error",
     "traceback": [
      "\u001b[0;31m---------------------------------------------------------------------------\u001b[0m",
      "\u001b[0;31mAttributeError\u001b[0m                            Traceback (most recent call last)",
      "Cell \u001b[0;32mIn[3], line 3\u001b[0m\n\u001b[1;32m      1\u001b[0m \u001b[38;5;28;01mfrom\u001b[39;00m \u001b[38;5;21;01mrestaurentpy\u001b[39;00m\u001b[38;5;21;01m.\u001b[39;00m\u001b[38;5;21;01mdata\u001b[39;00m \u001b[38;5;28;01mimport\u001b[39;00m ReviewData\n\u001b[0;32m----> 3\u001b[0m \u001b[43mReviewData\u001b[49m\u001b[43m(\u001b[49m\u001b[43mpath\u001b[49m\u001b[38;5;241;43m=\u001b[39;49m\u001b[38;5;124;43m'\u001b[39;49m\u001b[38;5;124;43m/Volumes/Macintosh HD/AI World/Review Data/\u001b[39;49m\u001b[38;5;124;43m'\u001b[39;49m\u001b[43m)\u001b[49m\u001b[38;5;241;43m.\u001b[39;49m\u001b[43mread_review\u001b[49m\u001b[43m(\u001b[49m\u001b[43mpat\u001b[49m\u001b[38;5;241;43m=\u001b[39;49m\u001b[38;5;124;43m'\u001b[39;49m\u001b[38;5;124;43mxlsx\u001b[39;49m\u001b[38;5;124;43m'\u001b[39;49m\u001b[43m)\u001b[49m\n",
      "File \u001b[0;32m/Volumes/Macintosh HD/AI World/restaurentpy/restaurentpy/data.py:21\u001b[0m, in \u001b[0;36mReviewData.read_review\u001b[0;34m(self, pat)\u001b[0m\n\u001b[1;32m     14\u001b[0m \u001b[38;5;28;01mdef\u001b[39;00m \u001b[38;5;21mread_review\u001b[39m(\u001b[38;5;28mself\u001b[39m, pat: \u001b[38;5;28mstr\u001b[39m):\n\u001b[1;32m     15\u001b[0m \u001b[38;5;250m    \u001b[39m\u001b[38;5;124;03m'''\u001b[39;00m\n\u001b[1;32m     16\u001b[0m \u001b[38;5;124;03m    The function to read files\u001b[39;00m\n\u001b[1;32m     17\u001b[0m \u001b[38;5;124;03m    \u001b[39;00m\n\u001b[1;32m     18\u001b[0m \u001b[38;5;124;03m    Args:\u001b[39;00m\n\u001b[1;32m     19\u001b[0m \u001b[38;5;124;03m        pat (str): The type of file to read (e.g. xlsx)\u001b[39;00m\n\u001b[1;32m     20\u001b[0m \u001b[38;5;124;03m    '''\u001b[39;00m\n\u001b[0;32m---> 21\u001b[0m     \u001b[38;5;28;01mif\u001b[39;00m \u001b[38;5;28;43mself\u001b[39;49m\u001b[38;5;241;43m.\u001b[39;49m\u001b[43mpat\u001b[49m \u001b[38;5;129;01min\u001b[39;00m [\u001b[38;5;124m'\u001b[39m\u001b[38;5;124mxlsx\u001b[39m\u001b[38;5;124m'\u001b[39m]:\n\u001b[1;32m     22\u001b[0m         files \u001b[38;5;241m=\u001b[39m os\u001b[38;5;241m.\u001b[39mlistdir(\u001b[38;5;28mself\u001b[39m\u001b[38;5;241m.\u001b[39mpath)\n\u001b[1;32m     24\u001b[0m         \u001b[38;5;66;03m# print(\"Reading From:\", self.path)\u001b[39;00m\n\u001b[1;32m     25\u001b[0m         \u001b[38;5;66;03m# df = pd.read_excel(self.path)\u001b[39;00m\n",
      "\u001b[0;31mAttributeError\u001b[0m: 'ReviewData' object has no attribute 'pat'"
     ]
    }
   ],
   "source": [
    "from restaurentpy.data import ReviewData\n",
    "\n",
    "ReviewData(path='/Volumes/Macintosh HD/AI World/Review Data/').read_review(pat='xlsx')"
   ]
  },
  {
   "cell_type": "code",
   "execution_count": 15,
   "metadata": {},
   "outputs": [
    {
     "ename": "ModuleNotFoundError",
     "evalue": "No module named 'matplotlib'",
     "output_type": "error",
     "traceback": [
      "\u001b[0;31m---------------------------------------------------------------------------\u001b[0m",
      "\u001b[0;31mModuleNotFoundError\u001b[0m                       Traceback (most recent call last)",
      "Cell \u001b[0;32mIn[15], line 4\u001b[0m\n\u001b[1;32m      2\u001b[0m \u001b[38;5;66;03m# import os\u001b[39;00m\n\u001b[1;32m      3\u001b[0m \u001b[38;5;28;01mimport\u001b[39;00m \u001b[38;5;21;01mlangdetect\u001b[39;00m \u001b[38;5;66;03m# Package to identify languages\u001b[39;00m\n\u001b[0;32m----> 4\u001b[0m \u001b[38;5;28;01mimport\u001b[39;00m \u001b[38;5;21;01mmatplotlib\u001b[39;00m\u001b[38;5;21;01m.\u001b[39;00m\u001b[38;5;21;01mpyplot\u001b[39;00m \u001b[38;5;28;01mas\u001b[39;00m \u001b[38;5;21;01mplt\u001b[39;00m\n",
      "\u001b[0;31mModuleNotFoundError\u001b[0m: No module named 'matplotlib'"
     ]
    }
   ],
   "source": [
    "import pandas as pd\n",
    "# import os\n",
    "import langdetect # Package to identify languages\n",
    "import matplotlib.pyplot as plt"
   ]
  },
  {
   "cell_type": "markdown",
   "metadata": {},
   "source": [
    "# Read Data"
   ]
  },
  {
   "cell_type": "code",
   "execution_count": 12,
   "metadata": {},
   "outputs": [
    {
     "data": {
      "text/html": [
       "<div>\n",
       "<style scoped>\n",
       "    .dataframe tbody tr th:only-of-type {\n",
       "        vertical-align: middle;\n",
       "    }\n",
       "\n",
       "    .dataframe tbody tr th {\n",
       "        vertical-align: top;\n",
       "    }\n",
       "\n",
       "    .dataframe thead th {\n",
       "        text-align: right;\n",
       "    }\n",
       "</style>\n",
       "<table border=\"1\" class=\"dataframe\">\n",
       "  <thead>\n",
       "    <tr style=\"text-align: right;\">\n",
       "      <th></th>\n",
       "      <th>calendar_date</th>\n",
       "      <th>review_text</th>\n",
       "      <th>review_rating</th>\n",
       "    </tr>\n",
       "  </thead>\n",
       "  <tbody>\n",
       "    <tr>\n",
       "      <th>0</th>\n",
       "      <td>December-2023</td>\n",
       "      <td>Love the lighting here and the vibe is amazing...</td>\n",
       "      <td>5</td>\n",
       "    </tr>\n",
       "    <tr>\n",
       "      <th>1</th>\n",
       "      <td>November-2023</td>\n",
       "      <td>Today is my birthday and first time having din...</td>\n",
       "      <td>5</td>\n",
       "    </tr>\n",
       "    <tr>\n",
       "      <th>2</th>\n",
       "      <td>November-2023</td>\n",
       "      <td>If you love Cheesecake, then Cheesecake factor...</td>\n",
       "      <td>5</td>\n",
       "    </tr>\n",
       "    <tr>\n",
       "      <th>3</th>\n",
       "      <td>October-2023</td>\n",
       "      <td>I always get the same dish; the baja chicken t...</td>\n",
       "      <td>5</td>\n",
       "    </tr>\n",
       "    <tr>\n",
       "      <th>4</th>\n",
       "      <td>October-2023</td>\n",
       "      <td>One of my favorite restaurants. Quality of foo...</td>\n",
       "      <td>5</td>\n",
       "    </tr>\n",
       "  </tbody>\n",
       "</table>\n",
       "</div>"
      ],
      "text/plain": [
       "   calendar_date                                        review_text  \\\n",
       "0  December-2023  Love the lighting here and the vibe is amazing...   \n",
       "1  November-2023  Today is my birthday and first time having din...   \n",
       "2  November-2023  If you love Cheesecake, then Cheesecake factor...   \n",
       "3   October-2023  I always get the same dish; the baja chicken t...   \n",
       "4   October-2023  One of my favorite restaurants. Quality of foo...   \n",
       "\n",
       "   review_rating  \n",
       "0              5  \n",
       "1              5  \n",
       "2              5  \n",
       "3              5  \n",
       "4              5  "
      ]
     },
     "execution_count": 12,
     "metadata": {},
     "output_type": "execute_result"
    }
   ],
   "source": [
    "df_review = pd.read_excel(\n",
    "    '/Volumes/Macintosh HD/AI World/restaurentr/inst/extdata/inputdata/The Cheesecake Factory - Festival City.xlsx'\n",
    ")\n",
    "\n",
    "# Select columns need for Analysis\n",
    "df_review = df_review[[\"review_datetime_utc\", \"review_text\", \"review_rating\"]]\n",
    "\n",
    "# Get Month year from datetime column\n",
    "df_review['calendar_date'] = pd.to_datetime(df_review['review_datetime_utc']).apply(lambda x: x.strftime('%B-%Y')) \n",
    "\n",
    "df_review = df_review[[\"calendar_date\", \"review_text\", \"review_rating\"]]\n",
    "\n",
    "df_review.head()"
   ]
  },
  {
   "cell_type": "markdown",
   "metadata": {},
   "source": [
    "# Language Detection & Translate"
   ]
  },
  {
   "cell_type": "code",
   "execution_count": 13,
   "metadata": {},
   "outputs": [],
   "source": [
    "def get_language(text):\n",
    "    try:\n",
    "        return langdetect.detect(text)\n",
    "    except:\n",
    "        return '<-- ERROR -->'"
   ]
  },
  {
   "cell_type": "code",
   "execution_count": 14,
   "metadata": {},
   "outputs": [
    {
     "data": {
      "text/html": [
       "<div>\n",
       "<style scoped>\n",
       "    .dataframe tbody tr th:only-of-type {\n",
       "        vertical-align: middle;\n",
       "    }\n",
       "\n",
       "    .dataframe tbody tr th {\n",
       "        vertical-align: top;\n",
       "    }\n",
       "\n",
       "    .dataframe thead th {\n",
       "        text-align: right;\n",
       "    }\n",
       "</style>\n",
       "<table border=\"1\" class=\"dataframe\">\n",
       "  <thead>\n",
       "    <tr style=\"text-align: right;\">\n",
       "      <th></th>\n",
       "      <th>calendar_date</th>\n",
       "      <th>review_text</th>\n",
       "      <th>review_rating</th>\n",
       "      <th>lang</th>\n",
       "    </tr>\n",
       "  </thead>\n",
       "  <tbody>\n",
       "    <tr>\n",
       "      <th>0</th>\n",
       "      <td>December-2023</td>\n",
       "      <td>Love the lighting here and the vibe is amazing...</td>\n",
       "      <td>5</td>\n",
       "      <td>en</td>\n",
       "    </tr>\n",
       "    <tr>\n",
       "      <th>1</th>\n",
       "      <td>November-2023</td>\n",
       "      <td>Today is my birthday and first time having din...</td>\n",
       "      <td>5</td>\n",
       "      <td>en</td>\n",
       "    </tr>\n",
       "    <tr>\n",
       "      <th>2</th>\n",
       "      <td>November-2023</td>\n",
       "      <td>If you love Cheesecake, then Cheesecake factor...</td>\n",
       "      <td>5</td>\n",
       "      <td>en</td>\n",
       "    </tr>\n",
       "    <tr>\n",
       "      <th>3</th>\n",
       "      <td>October-2023</td>\n",
       "      <td>I always get the same dish; the baja chicken t...</td>\n",
       "      <td>5</td>\n",
       "      <td>en</td>\n",
       "    </tr>\n",
       "    <tr>\n",
       "      <th>4</th>\n",
       "      <td>October-2023</td>\n",
       "      <td>One of my favorite restaurants. Quality of foo...</td>\n",
       "      <td>5</td>\n",
       "      <td>en</td>\n",
       "    </tr>\n",
       "  </tbody>\n",
       "</table>\n",
       "</div>"
      ],
      "text/plain": [
       "   calendar_date                                        review_text  \\\n",
       "0  December-2023  Love the lighting here and the vibe is amazing...   \n",
       "1  November-2023  Today is my birthday and first time having din...   \n",
       "2  November-2023  If you love Cheesecake, then Cheesecake factor...   \n",
       "3   October-2023  I always get the same dish; the baja chicken t...   \n",
       "4   October-2023  One of my favorite restaurants. Quality of foo...   \n",
       "\n",
       "   review_rating lang  \n",
       "0              5   en  \n",
       "1              5   en  \n",
       "2              5   en  \n",
       "3              5   en  \n",
       "4              5   en  "
      ]
     },
     "execution_count": 14,
     "metadata": {},
     "output_type": "execute_result"
    }
   ],
   "source": [
    "df_review['lang'] = df_review.review_text.map(get_language)\n",
    "\n",
    "df_review.head()"
   ]
  },
  {
   "cell_type": "code",
   "execution_count": 21,
   "metadata": {},
   "outputs": [
    {
     "data": {
      "text/plain": [
       "lang\n",
       "en               1368\n",
       "ar                172\n",
       "ro                 22\n",
       "de                 20\n",
       "fr                 16\n",
       "af                 16\n",
       "nl                 12\n",
       "sw                 10\n",
       "tr                 10\n",
       "<-- ERROR -->      10\n",
       "so                 10\n",
       "id                  9\n",
       "ca                  9\n",
       "ru                  7\n",
       "fa                  7\n",
       "es                  7\n",
       "ur                  6\n",
       "it                  4\n",
       "pl                  4\n",
       "he                  4\n",
       "et                  3\n",
       "da                  3\n",
       "fi                  3\n",
       "sk                  3\n",
       "ja                  3\n",
       "sl                  2\n",
       "ko                  2\n",
       "tl                  2\n",
       "sv                  2\n",
       "cy                  2\n",
       "hr                  2\n",
       "no                  1\n",
       "sq                  1\n",
       "pt                  1\n",
       "hu                  1\n",
       "Name: count, dtype: int64"
      ]
     },
     "execution_count": 21,
     "metadata": {},
     "output_type": "execute_result"
    }
   ],
   "source": [
    "df_review['lang'].value_counts()"
   ]
  },
  {
   "cell_type": "code",
   "execution_count": null,
   "metadata": {},
   "outputs": [],
   "source": []
  }
 ],
 "metadata": {
  "kernelspec": {
   "display_name": "restaurentpy",
   "language": "python",
   "name": "python3"
  },
  "language_info": {
   "codemirror_mode": {
    "name": "ipython",
    "version": 3
   },
   "file_extension": ".py",
   "mimetype": "text/x-python",
   "name": "python",
   "nbconvert_exporter": "python",
   "pygments_lexer": "ipython3",
   "version": "3.9.6"
  }
 },
 "nbformat": 4,
 "nbformat_minor": 2
}
