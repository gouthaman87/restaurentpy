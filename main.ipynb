{
 "cells": [
  {
   "cell_type": "code",
   "execution_count": 1,
   "metadata": {},
   "outputs": [],
   "source": [
    "import warnings\n",
    "warnings.filterwarnings('ignore')"
   ]
  },
  {
   "cell_type": "code",
   "execution_count": 2,
   "metadata": {},
   "outputs": [
    {
     "name": "stderr",
     "output_type": "stream",
     "text": [
      "Since the GPL-licensed package `unidecode` is not installed, using Python's `unicodedata` package which yields worse results.\n"
     ]
    },
    {
     "name": "stdout",
     "output_type": "stream",
     "text": [
      "Reading Data ...\n",
      "Number of rows of Raw Data: 3065\n",
      "Identify language for reviews ...\n",
      "Translate Reviews ...\n",
      "Remove Shorter Reviews ...\n",
      "Cleaning emojis in reviews ...\n",
      "Calculate sentiment scores ...\n",
      "Find toipcs in reviews ...\n",
      "Number of rows Topic Data: 2484\n",
      "Number of rows Final Data: 2484\n"
     ]
    }
   ],
   "source": [
    "\n",
    "# https://www.turing.com/kb/guide-on-word-embeddings-in-nlp\n",
    "# https://www.pinecone.io/learn/bertopic/\n",
    "from restaurentpy.pipeline import RunPipeline\n",
    "\n",
    "model = 'all-MiniLM-L6-v2'\n",
    "user_defined_topics = [\n",
    "    \"Food\",\n",
    "    \"Staff & Service\",\n",
    "    \"Ambience\",\n",
    "    \"Price\"\n",
    "]\n",
    "\n",
    "df_review = RunPipeline(path='/Volumes/Macintosh HD/AI World/Review Data/BigPlate/', \n",
    "                        pat='xlsx',\n",
    "                        model=model,\n",
    "                        topic=user_defined_topics). \\\n",
    "    run_pipeline()"
   ]
  },
  {
   "cell_type": "code",
   "execution_count": 3,
   "metadata": {},
   "outputs": [
    {
     "data": {
      "text/html": [
       "<div>\n",
       "<style scoped>\n",
       "    .dataframe tbody tr th:only-of-type {\n",
       "        vertical-align: middle;\n",
       "    }\n",
       "\n",
       "    .dataframe tbody tr th {\n",
       "        vertical-align: top;\n",
       "    }\n",
       "\n",
       "    .dataframe thead th {\n",
       "        text-align: right;\n",
       "    }\n",
       "</style>\n",
       "<table border=\"1\" class=\"dataframe\">\n",
       "  <thead>\n",
       "    <tr style=\"text-align: right;\">\n",
       "      <th></th>\n",
       "      <th>branch</th>\n",
       "      <th>calendar_date</th>\n",
       "      <th>review_text</th>\n",
       "      <th>review_rating</th>\n",
       "      <th>lang</th>\n",
       "      <th>translate_review</th>\n",
       "      <th>sentiment_score</th>\n",
       "      <th>sentiment_type</th>\n",
       "      <th>Topic</th>\n",
       "    </tr>\n",
       "  </thead>\n",
       "  <tbody>\n",
       "    <tr>\n",
       "      <th>0</th>\n",
       "      <td>Big Plate</td>\n",
       "      <td>June-2024</td>\n",
       "      <td>Rajendran best customer service.</td>\n",
       "      <td>3</td>\n",
       "      <td>en</td>\n",
       "      <td>rajendran best customer service.</td>\n",
       "      <td>1.000000</td>\n",
       "      <td>Positive</td>\n",
       "      <td>Staff &amp; Service</td>\n",
       "    </tr>\n",
       "    <tr>\n",
       "      <th>1</th>\n",
       "      <td>Big Plate</td>\n",
       "      <td>June-2024</td>\n",
       "      <td>Good and  best service rilwan.♥️</td>\n",
       "      <td>5</td>\n",
       "      <td>en</td>\n",
       "      <td>good and best service rilwan.</td>\n",
       "      <td>0.850000</td>\n",
       "      <td>Positive</td>\n",
       "      <td>Staff &amp; Service</td>\n",
       "    </tr>\n",
       "    <tr>\n",
       "      <th>2</th>\n",
       "      <td>Big Plate</td>\n",
       "      <td>June-2024</td>\n",
       "      <td>Loved the atmosphere and the service</td>\n",
       "      <td>4</td>\n",
       "      <td>en</td>\n",
       "      <td>loved the atmosphere and the service</td>\n",
       "      <td>0.700000</td>\n",
       "      <td>Positive</td>\n",
       "      <td>Staff &amp; Service</td>\n",
       "    </tr>\n",
       "    <tr>\n",
       "      <th>3</th>\n",
       "      <td>Big Plate</td>\n",
       "      <td>June-2024</td>\n",
       "      <td>Mr.rajenthiran &amp; big plate team awesome Soo he...</td>\n",
       "      <td>5</td>\n",
       "      <td>en</td>\n",
       "      <td>mr.rajenthiran &amp; big plate team awesome soo he...</td>\n",
       "      <td>0.400000</td>\n",
       "      <td>Positive</td>\n",
       "      <td>Food</td>\n",
       "    </tr>\n",
       "    <tr>\n",
       "      <th>4</th>\n",
       "      <td>Big Plate</td>\n",
       "      <td>June-2024</td>\n",
       "      <td>Noodles goreng was fantastic with unexpected a...</td>\n",
       "      <td>5</td>\n",
       "      <td>en</td>\n",
       "      <td>noodles goreng was fantastic with unexpected a...</td>\n",
       "      <td>0.058333</td>\n",
       "      <td>Positive</td>\n",
       "      <td>Food</td>\n",
       "    </tr>\n",
       "  </tbody>\n",
       "</table>\n",
       "</div>"
      ],
      "text/plain": [
       "      branch calendar_date                                        review_text  \\\n",
       "0  Big Plate     June-2024                   Rajendran best customer service.   \n",
       "1  Big Plate     June-2024                   Good and  best service rilwan.♥️   \n",
       "2  Big Plate     June-2024               Loved the atmosphere and the service   \n",
       "3  Big Plate     June-2024  Mr.rajenthiran & big plate team awesome Soo he...   \n",
       "4  Big Plate     June-2024  Noodles goreng was fantastic with unexpected a...   \n",
       "\n",
       "   review_rating lang                                   translate_review  \\\n",
       "0              3   en                   rajendran best customer service.   \n",
       "1              5   en                      good and best service rilwan.   \n",
       "2              4   en               loved the atmosphere and the service   \n",
       "3              5   en  mr.rajenthiran & big plate team awesome soo he...   \n",
       "4              5   en  noodles goreng was fantastic with unexpected a...   \n",
       "\n",
       "   sentiment_score sentiment_type            Topic  \n",
       "0         1.000000       Positive  Staff & Service  \n",
       "1         0.850000       Positive  Staff & Service  \n",
       "2         0.700000       Positive  Staff & Service  \n",
       "3         0.400000       Positive             Food  \n",
       "4         0.058333       Positive             Food  "
      ]
     },
     "execution_count": 3,
     "metadata": {},
     "output_type": "execute_result"
    }
   ],
   "source": [
    "df_review.head()"
   ]
  },
  {
   "cell_type": "code",
   "execution_count": 4,
   "metadata": {},
   "outputs": [
    {
     "data": {
      "text/plain": [
       "sentiment_type\n",
       "Positive    2227\n",
       "Negative     140\n",
       "Neutral      117\n",
       "Name: count, dtype: int64"
      ]
     },
     "execution_count": 4,
     "metadata": {},
     "output_type": "execute_result"
    }
   ],
   "source": [
    "df_review['sentiment_type'].value_counts()"
   ]
  },
  {
   "cell_type": "code",
   "execution_count": 5,
   "metadata": {},
   "outputs": [
    {
     "data": {
      "text/plain": [
       "Topic\n",
       "Staff & Service    1290\n",
       "Food               1067\n",
       "Price                76\n",
       "Ambience             51\n",
       "Name: count, dtype: int64"
      ]
     },
     "execution_count": 5,
     "metadata": {},
     "output_type": "execute_result"
    }
   ],
   "source": [
    "df_review['Topic'].value_counts()"
   ]
  },
  {
   "cell_type": "code",
   "execution_count": 6,
   "metadata": {},
   "outputs": [],
   "source": [
    "# import csv\n",
    "# import pandas as pd\n",
    "# Save the merged DataFrame to a CSV file\n",
    "# df_review.to_csv('inst/output/cheesecake_python.csv', index=False)"
   ]
  }
 ],
 "metadata": {
  "kernelspec": {
   "display_name": "restaurentpy",
   "language": "python",
   "name": "python3"
  },
  "language_info": {
   "codemirror_mode": {
    "name": "ipython",
    "version": 3
   },
   "file_extension": ".py",
   "mimetype": "text/x-python",
   "name": "python",
   "nbconvert_exporter": "python",
   "pygments_lexer": "ipython3",
   "version": "3.9.6"
  }
 },
 "nbformat": 4,
 "nbformat_minor": 2
}
