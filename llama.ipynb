{
 "cells": [
  {
   "cell_type": "code",
   "execution_count": 1,
   "metadata": {},
   "outputs": [
    {
     "name": "stderr",
     "output_type": "stream",
     "text": [
      "/Users/gouthaman/Library/Caches/pypoetry/virtualenvs/restaurentpy-gkgQl5iP-py3.12/lib/python3.12/site-packages/tqdm/auto.py:21: TqdmWarning: IProgress not found. Please update jupyter and ipywidgets. See https://ipywidgets.readthedocs.io/en/stable/user_install.html\n",
      "  from .autonotebook import tqdm as notebook_tqdm\n",
      "Since the GPL-licensed package `unidecode` is not installed, using Python's `unicodedata` package which yields worse results.\n"
     ]
    }
   ],
   "source": [
    "from bertopic import BERTopic\n",
    "from bertopic.representation import KeyBERTInspired\n",
    "from restaurentpy.data import ReviewData\n",
    "from cleantext import clean"
   ]
  },
  {
   "cell_type": "markdown",
   "metadata": {},
   "source": [
    "# 1. Read Data ----"
   ]
  },
  {
   "cell_type": "code",
   "execution_count": 2,
   "metadata": {},
   "outputs": [],
   "source": [
    "df = ReviewData(path='/Volumes/Macintosh HD/AI World/Review Data/BigPlate/', pat='xlsx').etl_review()\n",
    "df['translate_review'] = df['review_text'].apply(lambda x: clean(x, no_emoji=True))"
   ]
  },
  {
   "cell_type": "markdown",
   "metadata": {},
   "source": [
    "# 2. Bertopic ----"
   ]
  },
  {
   "cell_type": "code",
   "execution_count": 3,
   "metadata": {},
   "outputs": [
    {
     "name": "stdout",
     "output_type": "stream",
     "text": [
      "Training topic model for reviews...\n"
     ]
    }
   ],
   "source": [
    "representation_model = KeyBERTInspired()\n",
    "\n",
    "topic_model = BERTopic(representation_model = representation_model)\n",
    "\n",
    "print('Training topic model for reviews...')\n",
    "topics, ini_probs = topic_model.fit_transform(list(df.translate_review.values))\n",
    "\n",
    "df['topic'] = topics\n",
    "df['topic_prob'] = ini_probs\n",
    "\n",
    "topics_info = topic_model.get_topic_info()"
   ]
  },
  {
   "cell_type": "code",
   "execution_count": 4,
   "metadata": {},
   "outputs": [
    {
     "name": "stdout",
     "output_type": "stream",
     "text": [
      "Reviews: \n",
      " Weru good friendly service by Ifthikar\n",
      "Tasty food\n",
      "Recommend\n",
      "Food & service very good\n",
      "(Ifthikar)\n",
      "Good service given by Ifthikar, Quality food ! Would recommend.\n",
      "Good quality food good service and affordable prices. Highly recommend. Crew member Iftikar provided good service\n",
      "\n",
      "Key words:  ifthikars, ifthikar, ifthkar, ithikar, foods, meal, food, restaurant, service, served\n"
     ]
    }
   ],
   "source": [
    "topic_number = 3\n",
    "\n",
    "print( 'Reviews: \\n' ,'\\n'.join([str(elem) for elem in \\\n",
    "                                df[df['topic']==topic_number]\\\n",
    "                                    .sort_values('topic_prob', ascending=False)\\\n",
    "                                    .drop_duplicates(subset=['review_text'])['review_text']\\\n",
    "                                        .head(4).values])\n",
    ")\n",
    "\n",
    "print( '\\nKey words: ' ,', '.join([str(elem) for elem in \\\n",
    "    topics_info.loc[topics_info['Topic']==topic_number, 'Representation'].values[0]]))"
   ]
  },
  {
   "cell_type": "code",
   "execution_count": 15,
   "metadata": {},
   "outputs": [
    {
     "data": {
      "text/html": [
       "<div>\n",
       "<style scoped>\n",
       "    .dataframe tbody tr th:only-of-type {\n",
       "        vertical-align: middle;\n",
       "    }\n",
       "\n",
       "    .dataframe tbody tr th {\n",
       "        vertical-align: top;\n",
       "    }\n",
       "\n",
       "    .dataframe thead th {\n",
       "        text-align: right;\n",
       "    }\n",
       "</style>\n",
       "<table border=\"1\" class=\"dataframe\">\n",
       "  <thead>\n",
       "    <tr style=\"text-align: right;\">\n",
       "      <th></th>\n",
       "      <th>Topic</th>\n",
       "      <th>Count</th>\n",
       "      <th>Name</th>\n",
       "      <th>Representation</th>\n",
       "      <th>Representative_Docs</th>\n",
       "    </tr>\n",
       "  </thead>\n",
       "  <tbody>\n",
       "    <tr>\n",
       "      <th>0</th>\n",
       "      <td>-1</td>\n",
       "      <td>569</td>\n",
       "      <td>-1_restaurant_dining_meal_dinner</td>\n",
       "      <td>[restaurant, dining, meal, dinner, burger, foo...</td>\n",
       "      <td>[placed in marine drive and parking your vehic...</td>\n",
       "    </tr>\n",
       "    <tr>\n",
       "      <th>1</th>\n",
       "      <td>0</td>\n",
       "      <td>157</td>\n",
       "      <td>0_akram_akrams_foods_service</td>\n",
       "      <td>[akram, akrams, foods, service, services, food...</td>\n",
       "      <td>[good food\\ngood service (akram), akram good s...</td>\n",
       "    </tr>\n",
       "    <tr>\n",
       "      <th>2</th>\n",
       "      <td>1</td>\n",
       "      <td>147</td>\n",
       "      <td>1_akram_akramservices_akrams_akramhe</td>\n",
       "      <td>[akram, akramservices, akrams, akramhe, akramg...</td>\n",
       "      <td>[good service akram, good service akram, good ...</td>\n",
       "    </tr>\n",
       "    <tr>\n",
       "      <th>3</th>\n",
       "      <td>2</td>\n",
       "      <td>141</td>\n",
       "      <td>2_rajendran_mrrajendran_rajendrans_mrrajendrans</td>\n",
       "      <td>[rajendran, mrrajendran, rajendrans, mrrajendr...</td>\n",
       "      <td>[the food is very good and mr rajendran's serv...</td>\n",
       "    </tr>\n",
       "    <tr>\n",
       "      <th>4</th>\n",
       "      <td>3</td>\n",
       "      <td>98</td>\n",
       "      <td>3_ifthikars_ifthikar_ifthkar_ithikar</td>\n",
       "      <td>[ifthikars, ifthikar, ifthkar, ithikar, foods,...</td>\n",
       "      <td>[good good food good service ifthikar, food &amp; ...</td>\n",
       "    </tr>\n",
       "    <tr>\n",
       "      <th>5</th>\n",
       "      <td>4</td>\n",
       "      <td>95</td>\n",
       "      <td>4_nan___</td>\n",
       "      <td>[nan, , , , , , , , , ]</td>\n",
       "      <td>[nan, nan, nan]</td>\n",
       "    </tr>\n",
       "    <tr>\n",
       "      <th>6</th>\n",
       "      <td>5</td>\n",
       "      <td>92</td>\n",
       "      <td>5_plate_plates_bigplate_dishes</td>\n",
       "      <td>[plate, plates, bigplate, dishes, dinner, rest...</td>\n",
       "      <td>[i had a wonderful dining experience at big pl...</td>\n",
       "    </tr>\n",
       "    <tr>\n",
       "      <th>7</th>\n",
       "      <td>6</td>\n",
       "      <td>86</td>\n",
       "      <td>6_foods_food_burger_seafood</td>\n",
       "      <td>[foods, food, burger, seafood, rice, chicken, ...</td>\n",
       "      <td>[food had great value and taste. we ordered ch...</td>\n",
       "    </tr>\n",
       "    <tr>\n",
       "      <th>8</th>\n",
       "      <td>7</td>\n",
       "      <td>78</td>\n",
       "      <td>7_shawarma_shawarmas_shawrma_beef</td>\n",
       "      <td>[shawarma, shawarmas, shawrma, beef, restauran...</td>\n",
       "      <td>[so, i and my friend are fellow foodies. we we...</td>\n",
       "    </tr>\n",
       "    <tr>\n",
       "      <th>9</th>\n",
       "      <td>8</td>\n",
       "      <td>73</td>\n",
       "      <td>8_restaurant_waiter_customers_food</td>\n",
       "      <td>[restaurant, waiter, customers, food, staff, m...</td>\n",
       "      <td>[i came with my friends to take our dinner , a...</td>\n",
       "    </tr>\n",
       "  </tbody>\n",
       "</table>\n",
       "</div>"
      ],
      "text/plain": [
       "   Topic  Count                                             Name  \\\n",
       "0     -1    569                 -1_restaurant_dining_meal_dinner   \n",
       "1      0    157                     0_akram_akrams_foods_service   \n",
       "2      1    147             1_akram_akramservices_akrams_akramhe   \n",
       "3      2    141  2_rajendran_mrrajendran_rajendrans_mrrajendrans   \n",
       "4      3     98             3_ifthikars_ifthikar_ifthkar_ithikar   \n",
       "5      4     95                                         4_nan___   \n",
       "6      5     92                   5_plate_plates_bigplate_dishes   \n",
       "7      6     86                      6_foods_food_burger_seafood   \n",
       "8      7     78                7_shawarma_shawarmas_shawrma_beef   \n",
       "9      8     73               8_restaurant_waiter_customers_food   \n",
       "\n",
       "                                      Representation  \\\n",
       "0  [restaurant, dining, meal, dinner, burger, foo...   \n",
       "1  [akram, akrams, foods, service, services, food...   \n",
       "2  [akram, akramservices, akrams, akramhe, akramg...   \n",
       "3  [rajendran, mrrajendran, rajendrans, mrrajendr...   \n",
       "4  [ifthikars, ifthikar, ifthkar, ithikar, foods,...   \n",
       "5                            [nan, , , , , , , , , ]   \n",
       "6  [plate, plates, bigplate, dishes, dinner, rest...   \n",
       "7  [foods, food, burger, seafood, rice, chicken, ...   \n",
       "8  [shawarma, shawarmas, shawrma, beef, restauran...   \n",
       "9  [restaurant, waiter, customers, food, staff, m...   \n",
       "\n",
       "                                 Representative_Docs  \n",
       "0  [placed in marine drive and parking your vehic...  \n",
       "1  [good food\\ngood service (akram), akram good s...  \n",
       "2  [good service akram, good service akram, good ...  \n",
       "3  [the food is very good and mr rajendran's serv...  \n",
       "4  [good good food good service ifthikar, food & ...  \n",
       "5                                    [nan, nan, nan]  \n",
       "6  [i had a wonderful dining experience at big pl...  \n",
       "7  [food had great value and taste. we ordered ch...  \n",
       "8  [so, i and my friend are fellow foodies. we we...  \n",
       "9  [i came with my friends to take our dinner , a...  "
      ]
     },
     "execution_count": 15,
     "metadata": {},
     "output_type": "execute_result"
    }
   ],
   "source": [
    "topics_info.head(10)"
   ]
  },
  {
   "cell_type": "code",
   "execution_count": 5,
   "metadata": {},
   "outputs": [],
   "source": [
    "system_prompt = \"\"\"\n",
    "<s>[INST] <<SYS>>\n",
    "You are a helpful, respectful and honest assistant for labeling topics.\n",
    "<</SYS>>\n",
    "\"\"\""
   ]
  },
  {
   "cell_type": "code",
   "execution_count": 8,
   "metadata": {},
   "outputs": [],
   "source": [
    "# Example prompt \n",
    "example_prompt = \"\"\"\n",
    "I have a topic that contains the following documents (from customers reviews):\n",
    "- Not good. Fries were stale.\n",
    "- There burgers has gotten worse than ever but their fries are still good.\n",
    "- Fries were too salty.\n",
    "\n",
    "The topic is described by the following keywords: 'fries, fry, burger, burgers, fried, cold, frozen, cooked, greasy, warm'.\n",
    "\n",
    "Based on the information about the topic above, please create a short label of this topic. Make sure you to only return the label and nothing more.\n",
    "\n",
    "[/INST] bad food\n",
    "\"\"\"\n",
    "\n",
    "base_prompt = system_prompt + example_prompt"
   ]
  },
  {
   "cell_type": "code",
   "execution_count": 11,
   "metadata": {},
   "outputs": [],
   "source": [
    "import ollama\n",
    "\n",
    "# Quantity of reviews\n",
    "qty_comments_prompt = 10\n",
    "\n",
    "def get_short_labels(df, topics_info, qty_comments_prompt, base_prompt):\n",
    "    for topic in topics_info.loc[topics_info['Topic'] > -1, 'Topic']:\n",
    "        print(topic)\n",
    "        # X reviews with the higher probability. It doesn't consider the duplicated values\n",
    "        comments_list = '\\n- '.join([str(elem) for elem in \\\n",
    "                                df[df['topic']==topic].sort_values('topic_prob', ascending=False)\\\n",
    "                                    .drop_duplicates(subset=['translate_review'])['translate_review']\\\n",
    "                                        .head(qty_comments_prompt).values])\n",
    "        \n",
    "        # Key words list from topic        \n",
    "        key_list = ', '.join([str(elem) for elem in topics_info.loc[topics_info['Topic']==topic, 'Representation'].values[0]])\n",
    "\n",
    "        # The main prompt with the list of reviews and list of topic key words\n",
    "        main_prompt = f\"\"\"\n",
    "[INST]\n",
    "I have a topic that contains the following documents (from customers reviews):\n",
    "{comments_list}\n",
    "\n",
    "The topic is described by the following keywords: '{key_list}'.\n",
    "\n",
    "Based on the information about the topic above, please create a short label of this topic. Make sure you to only return the label and nothing more.\n",
    "[/INST]\n",
    "        \"\"\"\n",
    "        # Build input prompt\n",
    "        prompt = base_prompt + main_prompt\n",
    "       \n",
    "        output = ollama.generate(model='llama3', prompt=prompt)\n",
    "        topics_info.loc[topics_info['Topic']==topic, 'short_label'] = output['response']\n",
    "\n",
    "        print('Output: ', output['response'])\n",
    "    return topics_info"
   ]
  },
  {
   "cell_type": "code",
   "execution_count": 18,
   "metadata": {},
   "outputs": [
    {
     "name": "stdout",
     "output_type": "stream",
     "text": [
      "0\n",
      "Output:  [/INST] good restaurant\n",
      "1\n",
      "Output:  [/INST] good customer service\n",
      "2\n",
      "Output:  [/INST] good dining experience at mr. rajendran's restaurant\n",
      "3\n",
      "Output:  [/INST] positive customer reviews\n"
     ]
    }
   ],
   "source": [
    "# Training topic model with Negative customer reviews\n",
    "topics_info_output = get_short_labels(df, topics_info.head(5), qty_comments_prompt, base_prompt)"
   ]
  },
  {
   "cell_type": "code",
   "execution_count": null,
   "metadata": {},
   "outputs": [],
   "source": [
    "topics_info_output.short_label.value_counts()"
   ]
  }
 ],
 "metadata": {
  "kernelspec": {
   "display_name": "restaurentpy-gkgQl5iP-py3.9",
   "language": "python",
   "name": "python3"
  },
  "language_info": {
   "codemirror_mode": {
    "name": "ipython",
    "version": 3
   },
   "file_extension": ".py",
   "mimetype": "text/x-python",
   "name": "python",
   "nbconvert_exporter": "python",
   "pygments_lexer": "ipython3",
   "version": "3.12.2"
  }
 },
 "nbformat": 4,
 "nbformat_minor": 2
}
