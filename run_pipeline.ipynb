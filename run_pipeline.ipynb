{
 "cells": [
  {
   "cell_type": "code",
   "execution_count": null,
   "metadata": {},
   "outputs": [],
   "source": [
    "import warnings\n",
    "warnings.filterwarnings('ignore')"
   ]
  },
  {
   "cell_type": "code",
   "execution_count": null,
   "metadata": {},
   "outputs": [],
   "source": [
    "\n",
    "# https://www.turing.com/kb/guide-on-word-embeddings-in-nlp\n",
    "# https://www.pinecone.io/learn/bertopic/\n",
    "from restaurentpy.pipeline import RunPipeline\n",
    "\n",
    "model = 'all-MiniLM-L6-v2'\n",
    "user_defined_topics = [\n",
    "    \"Food\",\n",
    "    \"Staff & Service\",\n",
    "    \"Ambience\",\n",
    "    \"Price\"\n",
    "]\n",
    "\n",
    "df_review = RunPipeline(path='/Volumes/Macintosh HD/AI World/Review Data/commonscafe', \n",
    "                        pat='xlsx',\n",
    "                        model=model,\n",
    "                        topic=user_defined_topics). \\\n",
    "    run_pipeline()"
   ]
  },
  {
   "cell_type": "code",
   "execution_count": null,
   "metadata": {},
   "outputs": [],
   "source": [
    "duplicate_authors = df_review[df_review.duplicated(subset=['author_title'], keep=False)]\n",
    "duplicate_authors['author_title'].value_counts()"
   ]
  },
  {
   "cell_type": "code",
   "execution_count": null,
   "metadata": {},
   "outputs": [],
   "source": [
    "df_review['sentiment_type'].value_counts()"
   ]
  },
  {
   "cell_type": "code",
   "execution_count": null,
   "metadata": {},
   "outputs": [],
   "source": [
    "df_review['Topic'].value_counts()"
   ]
  },
  {
   "cell_type": "code",
   "execution_count": null,
   "metadata": {},
   "outputs": [],
   "source": [
    "duplicates = df_review[df_review.duplicated()]\n",
    "duplicates.head()"
   ]
  },
  {
   "cell_type": "code",
   "execution_count": null,
   "metadata": {},
   "outputs": [],
   "source": [
    "# import csv\n",
    "import pandas as pd\n",
    "# Save the merged DataFrame to a CSV file\n",
    "df_review.to_csv('inst/output/commonscafe_mar25.csv', index=False)"
   ]
  }
 ],
 "metadata": {
  "kernelspec": {
   "display_name": ".venv",
   "language": "python",
   "name": "python3"
  },
  "language_info": {
   "codemirror_mode": {
    "name": "ipython",
    "version": 3
   },
   "file_extension": ".py",
   "mimetype": "text/x-python",
   "name": "python",
   "nbconvert_exporter": "python",
   "pygments_lexer": "ipython3",
   "version": "3.12.4"
  }
 },
 "nbformat": 4,
 "nbformat_minor": 2
}
