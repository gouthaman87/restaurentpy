{
 "cells": [
  {
   "cell_type": "code",
   "execution_count": 13,
   "metadata": {},
   "outputs": [],
   "source": [
    "import warnings\n",
    "warnings.filterwarnings('ignore')"
   ]
  },
  {
   "cell_type": "code",
   "execution_count": 14,
   "metadata": {},
   "outputs": [
    {
     "name": "stdout",
     "output_type": "stream",
     "text": [
      "STEP 01: Reading Data ...\n",
      "Number of rows of Raw Data: 3398\n",
      "STEP 02: Identify language for reviews ...\n",
      "STEP 03: Translate Reviews ...\n",
      "STEP 04: Remove Shorter Reviews ...\n",
      "Number of Reviews after cleaning: 1315\n",
      "STEP 05: Cleaning emojis in reviews ...\n",
      "STEP 06: Calculate sentiment scores ...\n",
      "STEP 07: Find topics in reviews ...\n",
      "Number of rows Topic Data: 1315\n",
      "STEP 08: Creating Final Data ----\n",
      "Number of rows Final Data: 3398\n"
     ]
    }
   ],
   "source": [
    "\n",
    "# https://www.turing.com/kb/guide-on-word-embeddings-in-nlp\n",
    "# https://www.pinecone.io/learn/bertopic/\n",
    "from restaurentpy.pipeline import RunPipeline\n",
    "\n",
    "model = 'all-MiniLM-L6-v2'\n",
    "user_defined_topics = [\n",
    "    \"Food\",\n",
    "    \"Staff & Service\",\n",
    "    \"Ambience\",\n",
    "    \"Price\"\n",
    "]\n",
    "\n",
    "df_review = RunPipeline(path='/Volumes/Macintosh HD/AI World/Review Data/commonscafe', \n",
    "                        pat='xlsx',\n",
    "                        model=model,\n",
    "                        topic=user_defined_topics). \\\n",
    "    run_pipeline()"
   ]
  },
  {
   "cell_type": "code",
   "execution_count": 15,
   "metadata": {},
   "outputs": [
    {
     "data": {
      "text/plain": [
       "sentiment_type\n",
       "Positive    1097\n",
       "Negative     134\n",
       "Neutral       84\n",
       "Name: count, dtype: int64"
      ]
     },
     "execution_count": 15,
     "metadata": {},
     "output_type": "execute_result"
    }
   ],
   "source": [
    "df_review['sentiment_type'].value_counts()"
   ]
  },
  {
   "cell_type": "code",
   "execution_count": 16,
   "metadata": {},
   "outputs": [
    {
     "data": {
      "text/plain": [
       "Topic\n",
       "Food               855\n",
       "Staff & Service    231\n",
       "Ambience           168\n",
       "Price               61\n",
       "Name: count, dtype: int64"
      ]
     },
     "execution_count": 16,
     "metadata": {},
     "output_type": "execute_result"
    }
   ],
   "source": [
    "df_review['Topic'].value_counts()"
   ]
  },
  {
   "cell_type": "code",
   "execution_count": 17,
   "metadata": {},
   "outputs": [
    {
     "data": {
      "application/vnd.microsoft.datawrangler.viewer.v0+json": {
       "columns": [
        {
         "name": "index",
         "rawType": "int64",
         "type": "integer"
        },
        {
         "name": "review_id",
         "rawType": "object",
         "type": "string"
        },
        {
         "name": "branch",
         "rawType": "object",
         "type": "string"
        },
        {
         "name": "calendar_date",
         "rawType": "object",
         "type": "string"
        },
        {
         "name": "review_text",
         "rawType": "object",
         "type": "string"
        },
        {
         "name": "review_rating",
         "rawType": "int64",
         "type": "integer"
        },
        {
         "name": "lang",
         "rawType": "object",
         "type": "string"
        },
        {
         "name": "translate_review",
         "rawType": "object",
         "type": "string"
        },
        {
         "name": "sentiment_score",
         "rawType": "float64",
         "type": "float"
        },
        {
         "name": "sentiment_type",
         "rawType": "object",
         "type": "string"
        },
        {
         "name": "Topic",
         "rawType": "object",
         "type": "string"
        }
       ],
       "conversionMethod": "pd.DataFrame",
       "ref": "9dfcd1db-c7d9-490c-bff3-0540608e4804",
       "rows": [],
       "shape": {
        "columns": 10,
        "rows": 0
       }
      },
      "text/html": [
       "<div>\n",
       "<style scoped>\n",
       "    .dataframe tbody tr th:only-of-type {\n",
       "        vertical-align: middle;\n",
       "    }\n",
       "\n",
       "    .dataframe tbody tr th {\n",
       "        vertical-align: top;\n",
       "    }\n",
       "\n",
       "    .dataframe thead th {\n",
       "        text-align: right;\n",
       "    }\n",
       "</style>\n",
       "<table border=\"1\" class=\"dataframe\">\n",
       "  <thead>\n",
       "    <tr style=\"text-align: right;\">\n",
       "      <th></th>\n",
       "      <th>review_id</th>\n",
       "      <th>branch</th>\n",
       "      <th>calendar_date</th>\n",
       "      <th>review_text</th>\n",
       "      <th>review_rating</th>\n",
       "      <th>lang</th>\n",
       "      <th>translate_review</th>\n",
       "      <th>sentiment_score</th>\n",
       "      <th>sentiment_type</th>\n",
       "      <th>Topic</th>\n",
       "    </tr>\n",
       "  </thead>\n",
       "  <tbody>\n",
       "  </tbody>\n",
       "</table>\n",
       "</div>"
      ],
      "text/plain": [
       "Empty DataFrame\n",
       "Columns: [review_id, branch, calendar_date, review_text, review_rating, lang, translate_review, sentiment_score, sentiment_type, Topic]\n",
       "Index: []"
      ]
     },
     "execution_count": 17,
     "metadata": {},
     "output_type": "execute_result"
    }
   ],
   "source": [
    "duplicates = df_review[df_review.duplicated()]\n",
    "duplicates.head()"
   ]
  },
  {
   "cell_type": "code",
   "execution_count": 18,
   "metadata": {},
   "outputs": [],
   "source": [
    "# import csv\n",
    "import pandas as pd\n",
    "# Save the merged DataFrame to a CSV file\n",
    "df_review.to_csv('inst/output/commonscafe_mar25.csv', index=False)"
   ]
  }
 ],
 "metadata": {
  "kernelspec": {
   "display_name": ".venv",
   "language": "python",
   "name": "python3"
  },
  "language_info": {
   "codemirror_mode": {
    "name": "ipython",
    "version": 3
   },
   "file_extension": ".py",
   "mimetype": "text/x-python",
   "name": "python",
   "nbconvert_exporter": "python",
   "pygments_lexer": "ipython3",
   "version": "3.12.4"
  }
 },
 "nbformat": 4,
 "nbformat_minor": 2
}
